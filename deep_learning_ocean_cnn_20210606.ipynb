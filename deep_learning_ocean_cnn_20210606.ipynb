{
 "cells": [
  {
   "cell_type": "code",
   "execution_count": null,
   "id": "2f317267",
   "metadata": {},
   "outputs": [],
   "source": [
    "import tensorflow as tf\n",
    "physical_devices = tf.config.experimental.list_physical_devices('GPU')\n",
    "assert len(physical_devices) > 0, \"Not enough GPU hardware devices available\"\n",
    "#import tensorflow as tf\n",
    "#tf.config.experimental.set_memory_growth(tf.config.list_physical_devices('GPU')[0], True)"
   ]
  },
  {
   "cell_type": "code",
   "execution_count": null,
   "id": "234c635b",
   "metadata": {},
   "outputs": [],
   "source": [
    "import tensorflow as tf\n",
    "gpus = tf.config.experimental.list_physical_devices('GPU')\n",
    "if gpus:\n",
    "    try:\n",
    "        # Currently, memory growth needs to be the same across GPUs\n",
    "        for gpu in gpus:\n",
    "            tf.config.experimental.set_memory_growth(gpu, True)\n",
    "        logical_gpus = tf.config.experimental.list_logical_devices('GPU')\n",
    "        print(len(gpus), \"Physical GPUs,\", len(logical_gpus), \"Logical GPUs\")\n",
    "    except RuntimeError as e:\n",
    "        # Memory growth must be set before GPUs have been initialized\n",
    "        print(e)"
   ]
  },
  {
   "cell_type": "code",
   "execution_count": null,
   "id": "0f8b4c58",
   "metadata": {},
   "outputs": [],
   "source": [
    "import tensorflow as tf\n",
    "tf.debugging.set_log_device_placement(True)\n",
    "\n",
    "#import tensorflow as tf\n",
    "#devices= tf.config.experimental.list_physical_devices('GPU')\n",
    "#tf.config.experimental.set_memory_growth(devices[0], True)"
   ]
  },
  {
   "cell_type": "code",
   "execution_count": null,
   "id": "7b97b149",
   "metadata": {},
   "outputs": [],
   "source": [
    "tf.debugging.set_log_device_placement(True)\n",
    "\n",
    "# 텐서 생성\n",
    "a = tf.constant([[1.0, 2.0, 3.0], [4.0, 5.0, 6.0]])\n",
    "b = tf.constant([[1.0, 2.0], [3.0, 4.0], [5.0, 6.0]])\n",
    "c = tf.matmul(a, b)\n",
    "\n",
    "print(c)"
   ]
  },
  {
   "cell_type": "code",
   "execution_count": null,
   "id": "b216854a",
   "metadata": {},
   "outputs": [],
   "source": []
  },
  {
   "cell_type": "code",
   "execution_count": null,
   "id": "c3c11229",
   "metadata": {},
   "outputs": [],
   "source": [
    "from tensorflow.python.client import device_lib\n",
    "device_lib.list_local_devices()"
   ]
  },
  {
   "cell_type": "code",
   "execution_count": null,
   "id": "d953c635",
   "metadata": {},
   "outputs": [],
   "source": [
    "tf.__version__"
   ]
  },
  {
   "cell_type": "code",
   "execution_count": null,
   "id": "6f13575c",
   "metadata": {},
   "outputs": [],
   "source": [
    "import matplotlib.pylab as plt\n",
    "#!pip install netCDF4\n",
    "#!pip install -U matplotlib==3.2\n",
    "#!pip uninstall -y numpy\n",
    "#!pip install numpy\n",
    "#!pip install pyproj==1.9.6\n",
    "#!apt-get install libgeos-3.5.0\n",
    "#!apt-get install libgeos-dev\n",
    "#!pip install https://github.com/matplotlib/basemap/archive/master.zip\n",
    "#!pip install sdv\n",
    "from netCDF4 import Dataset, num2date\n",
    "import pandas as pd\n",
    "#from matplotlib.cbook import dedent\n",
    "#from mpl_toolkits.basemap import Basemap\n",
    "import numpy as np\n",
    "%matplotlib inline\n",
    "import xarray\n",
    "import netCDF4 as nc\n",
    "#conda install xarray or pip install xarray"
   ]
  },
  {
   "cell_type": "code",
   "execution_count": null,
   "id": "ce212b46",
   "metadata": {},
   "outputs": [],
   "source": [
    "import xarray as xr\n",
    "sst_dataset=xr.open_dataset('sst_east_sea_month_198311.nc')"
   ]
  },
  {
   "cell_type": "code",
   "execution_count": null,
   "id": "de433f27",
   "metadata": {},
   "outputs": [],
   "source": [
    "#dataset_sst_lp=sst_dataset.sst.sel(lon=114.125,lat=14.125, method='nearest',time='1993-03-01')\n",
    "#dataset_sst_lp\n",
    "#dataset_sst_lp.plot()\n",
    "\n",
    "import datetime\n",
    "from pandas import DataFrame\n",
    "import matplotlib.pyplot as plt\n",
    "import netCDF4 as nc\n",
    "import xarray as xr\n",
    "import numpy as np\n",
    "month=['01','02','03','04','05','06','07','08','09','10','11','12']\n",
    "for year in range (1982,1984):\n",
    "        for mo in month:\n",
    "            sst_nc_file ='sst_merge_month_'+str(year)+mo+'.nc'\n",
    "            print(sst_nc_file)\n",
    "            sst_dataset=xr.open_dataset(sst_nc_file)\n",
    "            #sst_dataset\n",
    "            dataset_sst=sst_dataset.sst\n",
    "            dataset_sst_lp = sst_dataset.sst.sel(lon=slice(125, 140), lat=slice(30, 45))\n",
    "            output_file='sst_east_sea_month_'+str(year)+mo+'.nc'\n",
    "            print(output_file)\n",
    "            dataset_sst_lp.to_netcdf(output_file)\n",
    "            #dataset_sst_lp.plot()\n",
    "        dataset_sst_lp.plot(col=\"time\",col_wrap=6)"
   ]
  },
  {
   "cell_type": "code",
   "execution_count": null,
   "id": "6dc03250",
   "metadata": {},
   "outputs": [],
   "source": []
  },
  {
   "cell_type": "code",
   "execution_count": null,
   "id": "bb288b13",
   "metadata": {},
   "outputs": [],
   "source": [
    "df_sst=dataset_sst_lp.to_dataframe()\n",
    "np_sst=df_sst.to_numpy()\n",
    "print(np_sst.shape)\n",
    "print(np_sst)\n",
    "#sst_numpy_array = np.stack([data_array.values for data_array in df_sst['sst'].values])"
   ]
  },
  {
   "cell_type": "code",
   "execution_count": null,
   "id": "abfa400e",
   "metadata": {},
   "outputs": [],
   "source": [
    "type(dataset_sst_lp)"
   ]
  },
  {
   "cell_type": "code",
   "execution_count": null,
   "id": "03b6b20b",
   "metadata": {},
   "outputs": [],
   "source": [
    "dataset_sst_lp"
   ]
  },
  {
   "cell_type": "code",
   "execution_count": null,
   "id": "b37c191d",
   "metadata": {},
   "outputs": [],
   "source": [
    "df_sst"
   ]
  },
  {
   "cell_type": "code",
   "execution_count": null,
   "id": "e74f2c0d",
   "metadata": {},
   "outputs": [],
   "source": [
    "import pandas as pd\n",
    "df_sst.to_csv('sst.csv')\n",
    "df_sst=pd.read_csv('sst.csv')\n",
    "df_sst[['lat','lon']]"
   ]
  },
  {
   "cell_type": "code",
   "execution_count": null,
   "id": "2c7ca844",
   "metadata": {},
   "outputs": [],
   "source": [
    "for x, y in zip (df_sst['lon'], df_sst['lat']):\n",
    "  print(x,y)"
   ]
  },
  {
   "cell_type": "code",
   "execution_count": null,
   "id": "2c66cf82",
   "metadata": {},
   "outputs": [],
   "source": [
    "print(sst_dataset.sst.sel(time='1983-12-31').values)"
   ]
  },
  {
   "cell_type": "code",
   "execution_count": null,
   "id": "f0da7461",
   "metadata": {},
   "outputs": [],
   "source": [
    "df_sst_point=(df_sst.dropna())[['lat','lon','sst']]\n",
    "station_point=pd.read_excel('/gpu_deep/Deep_Ocean/station_104_107_loc.xls',header=0)\n",
    "print(station_point)\n",
    "print(station_point.shape)\n",
    "\n",
    "df_station_point=station_point[['latitude','longitude']]\n",
    "print(df_station_point)\n",
    "df_station_point_38=station_point[(df_station_point['latitude']<38) & (df_station_point['longitude']>130)]\n",
    "\n",
    "print(df_station_point_38)\n",
    "\n",
    "#conda install xlrd"
   ]
  },
  {
   "cell_type": "code",
   "execution_count": null,
   "id": "ca43dbd5",
   "metadata": {},
   "outputs": [],
   "source": [
    "lst = [0, 1, 2]\n",
    "num_ls=[num for num in lst if num != 0]"
   ]
  },
  {
   "cell_type": "code",
   "execution_count": null,
   "id": "968ecb08",
   "metadata": {},
   "outputs": [],
   "source": [
    "import os\n",
    "os.environ[\"CUDA_VISIBLE_DEVICES\"] = \"-1\"  # Force TF to use only the CPU\n",
    "\n",
    "#plot obs station\n",
    "df_sst_point=(df_sst.dropna())[['lat','lon','sst']]\n",
    "station_point=pd.read_excel('/gpu_deep/Deep_Ocean/AVHRR/station_104_107_loc.xls',header=0)\n",
    "print(station_point)\n",
    "\n",
    "\n",
    "\n",
    "\n",
    "df_station_point=station_point[['Point','latitude','longitude']]\n",
    "\n",
    "\n",
    "print(df_station_point)\n",
    "print(df_station_point[['latitude']])\n",
    "\n",
    "df_station_point_38=station_point[(df_station_point['latitude']<39) & (df_station_point['longitude']>129.8) & (df_station_point['longitude']<132)]\n",
    "\n",
    "\n",
    "lat_ls=df_station_point_38[['latitude']].values.flatten()\n",
    "lon_ls=df_station_point_38[['longitude']].values.flatten()\n",
    "\n",
    "\n",
    "# Read Temperature Profile\n",
    "\n",
    "import glob\n",
    "from pandas import DataFrame\n",
    "import pandas as pd\n",
    "col_names=['AREA','Station','Point','Station-Point','Latitude','Longitude','DATE','DEPTH','TEMPERATURE','TEMP/QC','SALINITY','SALINITY/QC','DISOLVED-OXYGEN','DISOLVED-OXYGEN/QC','QC Level','PHOROSPATE',' nitrite nitrogen','nitric acid nitrogen','silicic acid silicon','pH','Transparency','Pressure','Ship']\n",
    "\n",
    "path = '/gpu_deep/Deep_Ocean/obs_east/obs_*_east.xls'\n",
    "\n",
    "df=pd.DataFrame()\n",
    "\n",
    "files=glob.glob(path)\n",
    "for file in sorted(files):\n",
    "    with open(file, 'r') as f:\n",
    "        #print(file[30:43])\n",
    "        Name=file[30:43]\n",
    "        #print(Name)\n",
    "        statement='/gpu_deep/Deep_Ocean/obs_east/'+ Name + '.xls'\n",
    "        print(statement)\n",
    "#        pd.read_excel('/content/drive/My Drive/Deep_Ocean/obs_east/obs_1965_east.xls', header=1,names=col_names)\n",
    "        df=df.append(pd.read_excel(statement, header=1,names=col_names))\n",
    "\n",
    "station_point=pd.read_excel('/gpu_deep/Deep_Ocean/AVHRR/station_104_107_loc.xls',header=0)\n",
    "print(station_point)\n",
    "print(station_point.shape)\n",
    "\n",
    "df_station_point=station_point[['Point','latitude','longitude']]\n",
    "\n",
    "df_station_point_38=station_point[(df_station_point['latitude']<39) & (df_station_point['longitude']>129.8) & (df_station_point['longitude']<132)]\n",
    "\n",
    "print(df_station_point_38)\n",
    "\n",
    "df_station_point=df_station_point_38['Point'].to_list()\n",
    "\n",
    "print(df_station_point)\n",
    "\n",
    "df_38=pd.DataFrame()\n",
    "\n",
    "print(\"------------------------DF_STATION_POINT_38----------------------------------------------\")\n",
    "for i in df_station_point:\n",
    "    #print(df[df[\"Station-Point\"]==i])\n",
    "    print(i)\n",
    "    df_38=df_38.append(df[df[\"Station-Point\"]==i])\n",
    "\n",
    "#print(df)\n",
    "temp=df_38\n",
    "print(temp)\n",
    "\n",
    "\n",
    "\n",
    "import datetime\n",
    "from pandas import DataFrame\n",
    "import matplotlib.pyplot as plt\n",
    "import numpy as np\n",
    "#ocean_df=temp[['DATE','Station','Point','Station-Point','Latitude','Longitude','DEPTH','TEMPERATURE','SALINITY']]\n",
    "ocean_df=temp[['DATE','Station-Point','DEPTH','TEMPERATURE']]\n",
    "ocean_df['DATE']=pd.to_datetime(ocean_df['DATE'],format='%Y-%m-%d %H:%M')\n",
    "#ocean_df['DATE']=ocean_df['DATE'].dt.strftime('%Y-%m-%d')\n",
    "#ocean_df['DATE']=ocean_df['DATE'].dt.strftime('%Y-%m')\n",
    "ocean_df['DATE']=ocean_df['DATE'].dt.strftime('%Y-%m-%d')\n",
    "\n",
    "#select Feb\n",
    "#ocean_df=ocean_df[ocean_df['DATE'].str.contains(\"-02|-03|-04|-06\")]\n",
    "ocean_df=ocean_df[ocean_df['DATE'].str.contains(\"-02-|-03-\")]\n",
    "\n",
    "print(ocean_df)\n",
    "\n",
    "\n",
    "#ocean_df.pivot(index=['DATE','Station-Point'],columns='DEPTH',values='TEMPERATURE')\n",
    "\n",
    "ocean_grouped = ocean_df[\"DATE\"].unique()\n",
    "\n",
    "#np.unique(ocean_df[['DATE', 'Station-Point']].values)\n",
    "\n",
    "#print(np.unique(ocean_df[['DATE', 'Station-Point']].values))\n",
    "\n",
    "\n",
    "\n",
    "##2중 Loop\n",
    "reshape_ocean_df = pd.DataFrame(columns=['DATE','Station-Point','Latitude','Longitude','0','10','20','30','50','75','100','125','150','200','250','300','400','500'])\n",
    "\n",
    "obs_station= ocean_df[\"Station-Point\"].unique()\n",
    "\n",
    "#depth_criteria=[0,10,25,50,100,200,250,300,400,500]\n",
    "\n",
    "depth_criteria=[0,10,20,30,50,75,100,125,150,200,250,300,400,500]\n",
    "print(obs_station)\n",
    "\n",
    "#DEPTH=ocean_df_temp['DEPTH'][ocean_df_temp[\"DATE\"]==i].to_list()\n",
    "\n",
    "\n",
    "#tempDf = pd.DataFrame(columns=['PRODUCT','CAT_ID','MARKET_ID'])\n",
    "#tempDf['PRODUCT'] = df['PRODUCT']\n",
    "#tempDf['CAT_ID'] = catid\n",
    "#tempDf['MARKET_ID'] = 13\n",
    "\n",
    "#finalDf = pd.concat([finalDf,tempDf])\n",
    "\n",
    "temp_df = pd.DataFrame(columns=['DATE','Station-Point','Latitude','Longitude','0','10','20','30','50','75','100','125','150','200','250','300','400','500'])\n",
    "\n",
    "\n",
    "df_station_point=station_point[['Point','latitude','longitude']]\n",
    "\n",
    "df_station_point=pd.DataFrame(df_station_point)\n",
    "\n",
    "\n",
    "print(\"--------DF Station Point-------\")\n",
    "\n",
    "print(df_station_point)\n",
    "\n",
    "from datetime import date\n",
    "#f_date = date(2014, 7, 2)\n",
    "#l_date = date(2014, 7, 11)\n",
    "#delta = l_date - f_date\n",
    "#print(delta.days)\n",
    "\n",
    "for i in obs_station :\n",
    "        obs_station_date=ocean_df.loc[(ocean_df[\"Station-Point\"]==i) & (ocean_df[\"DATE\"]>'1992-01-01') & (ocean_df[\"DATE\"]<'2019-01-01'), \"DATE\"].unique()\n",
    "        print(obs_station_date)\n",
    "        for j in obs_station_date :\n",
    "                    DEPTH=ocean_df['DEPTH'][(ocean_df[\"DATE\"]==j) & (ocean_df[\"Station-Point\"]==i)].to_list()\n",
    "                    DEPTH.sort()\n",
    "                    if DEPTH==depth_criteria:\n",
    "                        print(j,i)\n",
    "                        start_dt=date(int(j[0:4]),1,1)\n",
    "                        print(j[5:7], j[8:10])\n",
    "                        end_dt=date(int(j[0:4]),int(j[5:7]), int(j[8:10]))\n",
    "                        delta=end_dt-start_dt\n",
    "                        ssh_days=delta.days\n",
    "                        obs_lat=df_station_point.loc[(df_station_point['Point']==i),\"latitude\"].values\n",
    "                        obs_lon=df_station_point.loc[(df_station_point['Point']==i),\"longitude\"].values\n",
    "                        print(\"LAT,LON:\",obs_lat,obs_lon)\n",
    "                        #sst_nc_file ='/gpu_deep/Deep_Ocean/CMEMS/cmems_ssh_east_sea_point_'+str(j[0:4])+'.nc'\n",
    "                        sst_nc_file ='/gpu_deep/Deep_Ocean/CMEMS/cmems_adt_east_sea_point_'+str(j[0:4])+'.nc'\n",
    "                        print(sst_nc_file)\n",
    "                        ssh_dataset=xr.open_dataset(sst_nc_file)\n",
    "                        print(ssh_dataset)\n",
    "                        #dataset_ssh=ssh_dataset.sla\n",
    "                        dataset_ssh=ssh_dataset.adt\n",
    "                        #dataset_ssh_lp = ssh_dataset.sla.sel(longitude=slice(120, 140), latitude=slice(30, 40))\n",
    "                        dataset_ssh_lp = ssh_dataset.adt.sel(time=j, latitude=obs_lat, longitude=obs_lon, method=\"nearest\")\n",
    "                        print(\"SSH:\", dataset_ssh_lp)\n",
    "                        #output_file='/gpu_deep/Deep_Ocean/CMEMS/cmems_ssh_east_sea_point_'+str(year)+'.nc'\n",
    "                        #print(output_file)\n",
    "                        #dataset_ssh_lp.to_netcdf(output_file)                                                \n",
    "                        temp_df[\"DATE\"]=j\n",
    "                        temp_df[\"Station-Point\"]=i\n",
    "                        temp_df[\"Latitude\"]=obs_lat\n",
    "                        temp_df[\"Longitude\"]=obs_lon\n",
    "                        temp_df[\"SSH\"]=dataset_ssh_lp.values\n",
    "                        temp_df[\"0\"]=ocean_df.loc[(ocean_df[\"Station-Point\"]==i) & (ocean_df[\"DATE\"]==j) & (ocean_df[\"DEPTH\"]==0),\"TEMPERATURE\"].values \n",
    "                        temp_df[\"10\"]=ocean_df.loc[(ocean_df[\"Station-Point\"]==i) & (ocean_df[\"DATE\"]==j) & (ocean_df[\"DEPTH\"]==10),\"TEMPERATURE\"].values\n",
    "                        temp_df[\"20\"]=ocean_df.loc[(ocean_df[\"Station-Point\"]==i) & (ocean_df[\"DATE\"]==j) & (ocean_df[\"DEPTH\"]==20),\"TEMPERATURE\"].values\n",
    "                        temp_df[\"30\"]=ocean_df.loc[(ocean_df[\"Station-Point\"]==i) & (ocean_df[\"DATE\"]==j) & (ocean_df[\"DEPTH\"]==30),\"TEMPERATURE\"].values\n",
    "                        temp_df[\"50\"]=ocean_df.loc[(ocean_df[\"Station-Point\"]==i) & (ocean_df[\"DATE\"]==j) & (ocean_df[\"DEPTH\"]==50),\"TEMPERATURE\"].values\n",
    "                        temp_df[\"75\"]=ocean_df.loc[(ocean_df[\"Station-Point\"]==i) & (ocean_df[\"DATE\"]==j) & (ocean_df[\"DEPTH\"]==75),\"TEMPERATURE\"].values\n",
    "                        temp_df[\"100\"]=ocean_df.loc[(ocean_df[\"Station-Point\"]==i) & (ocean_df[\"DATE\"]==j) & (ocean_df[\"DEPTH\"]==100),\"TEMPERATURE\"].values\n",
    "                        temp_df[\"125\"]=ocean_df.loc[(ocean_df[\"Station-Point\"]==i) & (ocean_df[\"DATE\"]==j) & (ocean_df[\"DEPTH\"]==125),\"TEMPERATURE\"].values\n",
    "                        temp_df[\"150\"]=ocean_df.loc[(ocean_df[\"Station-Point\"]==i) & (ocean_df[\"DATE\"]==j) & (ocean_df[\"DEPTH\"]==150),\"TEMPERATURE\"].values\n",
    "                        temp_df[\"200\"]=ocean_df.loc[(ocean_df[\"Station-Point\"]==i) & (ocean_df[\"DATE\"]==j) & (ocean_df[\"DEPTH\"]==200),\"TEMPERATURE\"].values\n",
    "                        temp_df[\"250\"]=ocean_df.loc[(ocean_df[\"Station-Point\"]==i) & (ocean_df[\"DATE\"]==j) & (ocean_df[\"DEPTH\"]==250),\"TEMPERATURE\"].values\n",
    "                        temp_df[\"300\"]=ocean_df.loc[(ocean_df[\"Station-Point\"]==i) & (ocean_df[\"DATE\"]==j) & (ocean_df[\"DEPTH\"]==300),\"TEMPERATURE\"].values\n",
    "                        temp_df[\"400\"]=ocean_df.loc[(ocean_df[\"Station-Point\"]==i) & (ocean_df[\"DATE\"]==j) & (ocean_df[\"DEPTH\"]==400),\"TEMPERATURE\"].values\n",
    "                        temp_df[\"500\"]=ocean_df.loc[(ocean_df[\"Station-Point\"]==i) & (ocean_df[\"DATE\"]==j) & (ocean_df[\"DEPTH\"]==500),\"TEMPERATURE\"].values\n",
    "                        print(temp_df)\n",
    "                        reshape_ocean_df=pd.concat([reshape_ocean_df,temp_df])\n",
    "                        \n",
    "print(reshape_ocean_df[reshape_ocean_df['DATE']!=reshape_ocean_df['DATE']])\n",
    "\n",
    "reshape_ocean_df.reset_index()\n",
    "                        \n",
    "                        \n",
    "#                    for k in depth_criteria:\n",
    "#                        if DEPTH==depth_criteria:\n",
    "#                            temp_depth=ocean_df.loc[(ocean_df[\"Station-Point\"]==i) & (ocean_df[\"DATE\"]==j) & (ocean_df[\"DEPTH\"]==k)]\n",
    "#                            print(temp_depth)\n",
    "#                            #print(i,j,k,temp_depth)\n",
    "                    \n",
    "\n",
    "print(reshape_ocean_df)\n",
    "\n",
    "reshape_ocean_df.to_csv('reshape_ocean_df.csv',index=False)\n",
    "\n",
    "reshape_ocean_df=pd.read_csv('reshape_ocean_df.csv')  \n",
    "\n",
    "pd.set_option('display.max_rows', None) \n",
    "print(reshape_ocean_df.drop([0,0]))\n",
    "\n",
    "\n",
    "reshape_ocean_df_1993=reshape_ocean_df[reshape_ocean_df[\"DATE\"]>'1993-01-01']\n",
    "\n",
    "reshape_ocean_df_1993.reset_index(drop=True,inplace=True)\n",
    "\n",
    "print(reshape_ocean_df_1993)\n",
    "\n",
    "#ls_ocean_dt=ocean_df['DATE'].unique()\n",
    "ls_station_df=ocean_df['Station-Point'].unique()\n",
    "print(ls_station_df.shape)\n",
    "obs_station_lst=ls_station_df.tolist()\n",
    "print(obs_station_lst)\n",
    "\n",
    "\n",
    "\n",
    "\n",
    "\n",
    "import numpy as np\n",
    "import matplotlib.pyplot as plt\n",
    "from matplotlib.cbook import dedent\n",
    "from mpl_toolkits.basemap import Basemap\n",
    "fig = plt.figure(figsize=(32, 32))\n",
    "#m = Basemap(projection='lcc', resolution='f',\n",
    "#            width=1E6, height=1E6, \n",
    "#            lat_0=37, lon_0=132,)\n",
    "#m.etopo(scale=0.5, alpha=0.5)\n",
    "m = Basemap(projection='lcc', resolution='f',\n",
    "          lat_0=37, lon_0=132, \n",
    "          llcrnrlon=120.25, llcrnrlat=30.0,\n",
    "          urcrnrlon=140.25, urcrnrlat=40.75)\n",
    "m.etopo(scale=3.0, alpha=2.0)\n",
    "\n",
    "\n",
    "lons, lats = m(lon_ls, lat_ls)\n",
    "#m.scatter(lons, lats, marker = 'o', color='r', zorder=5)\n",
    "m.plot(lons,lats,'ro',markersize=18)\n",
    "plt.show()\n",
    "\n",
    "# Map (long, lat) to (x, y) for plotting\n",
    "#x, y = m(132, 37)\n",
    "#plt.plot(x, y, 'ok', markersize=10)\n",
    "#plt.text(x, y, ' Seoul', fontsize=12);\n",
    "\n",
    "#m.scatter(lon, lat, marker = 'o', color='r', zorder=5)\n",
    "\n",
    "#m.scatter(lon, lat, latlon=True,\n",
    "#          c=np.log10(population), s=area,\n",
    "#          cmap='Reds', alpha=0.5)"
   ]
  },
  {
   "cell_type": "code",
   "execution_count": null,
   "id": "95623b89",
   "metadata": {},
   "outputs": [],
   "source": [
    "import matplotlib.pyplot as plt\n",
    "\n",
    "# define data\n",
    "\n",
    "Oxygen = [ 0.1 , 0.5, 1, 10, 15, 20, 15, 10, 1, 0.5, 0.5]\n",
    "Depth  = [ 0,     1,  2,  4,  8, 10, 12, 14, 16, 20, 40 ]\n",
    "\n",
    "fig = plt.figure()\n",
    "ax = fig.add_subplot(111)\n",
    "\n",
    "ax.plot(Oxygen, Depth, 'go--')\n",
    "ax.xaxis.tick_top()\n",
    "\n",
    "ax.set_ylabel('depth')\n",
    "ax.set_ylim(50, 0)\n",
    "ax.set_xlim(0, 25)\n",
    "ax.set_xlabel('Oxygen level [ppm]')\n",
    "\n",
    "plt.show()"
   ]
  },
  {
   "cell_type": "code",
   "execution_count": null,
   "id": "bf4a32ca",
   "metadata": {},
   "outputs": [],
   "source": [
    "df_sst=dataset_sst_lp.to_dataframe()\n",
    "np_sst=df_sst.to_numpy()\n",
    "print(np_sst.shape)\n",
    "print(np_sst)\n",
    "#sst_numpy_array = np.stack([data_array.values for data_array in df_sst['sst'].values])"
   ]
  },
  {
   "cell_type": "code",
   "execution_count": null,
   "id": "9d01fadc",
   "metadata": {},
   "outputs": [],
   "source": [
    "import pandas as pd\n",
    "reshape_ocean_df=pd.read_csv('reshape_ocean_df.csv')\n",
    "reshape_ocean_df"
   ]
  },
  {
   "cell_type": "code",
   "execution_count": null,
   "id": "ae3a9b65",
   "metadata": {},
   "outputs": [],
   "source": []
  },
  {
   "cell_type": "code",
   "execution_count": null,
   "id": "3d1f075f",
   "metadata": {},
   "outputs": [],
   "source": [
    "reshape_ocean_df_1993\n",
    "reshape_ocean_df_1993_104_07=reshape_ocean_df_1993[reshape_ocean_df_1993['Station-Point']=='104-07']"
   ]
  },
  {
   "cell_type": "code",
   "execution_count": null,
   "id": "14397102",
   "metadata": {},
   "outputs": [],
   "source": [
    "reshape_ocean_df_1993_104_07"
   ]
  },
  {
   "cell_type": "code",
   "execution_count": null,
   "id": "1fec864e",
   "metadata": {},
   "outputs": [],
   "source": [
    "reshape_ocean_cnn=reshape_ocean_df[[\"DATE\",\"Station-Point\",\"SSH\",\"0\",\"10\",\"20\",\"30\",\"50\",\"75\",\"100\",\"125\",\"150\",\"200\",\"250\",\"300\"]]"
   ]
  },
  {
   "cell_type": "code",
   "execution_count": null,
   "id": "901d0bfe",
   "metadata": {},
   "outputs": [],
   "source": [
    "reshape_ocean_cnn"
   ]
  },
  {
   "cell_type": "code",
   "execution_count": null,
   "id": "c4b6ab6b",
   "metadata": {},
   "outputs": [],
   "source": [
    "reshape_104_07_temp=reshape_ocean_cnn[reshape_ocean_cnn[\"Station-Point\"]=='104-07']\n",
    "reshape_104_08_temp=reshape_ocean_cnn[reshape_ocean_cnn[\"Station-Point\"]=='104-08']\n",
    "reshape_104_09_temp=reshape_ocean_cnn[reshape_ocean_cnn[\"Station-Point\"]=='104-09']\n",
    "reshape_104_10_temp=reshape_ocean_cnn[reshape_ocean_cnn[\"Station-Point\"]=='104-10']\n",
    "reshape_104_11_temp=reshape_ocean_cnn[reshape_ocean_cnn[\"Station-Point\"]=='104-11']\n",
    "reshape_105_07_temp=reshape_ocean_cnn[reshape_ocean_cnn[\"Station-Point\"]=='105-07']\n",
    "reshape_105_08_temp=reshape_ocean_cnn[reshape_ocean_cnn[\"Station-Point\"]=='105-08']\n",
    "reshape_105_09_temp=reshape_ocean_cnn[reshape_ocean_cnn[\"Station-Point\"]=='105-09']\n",
    "reshape_105_10_temp=reshape_ocean_cnn[reshape_ocean_cnn[\"Station-Point\"]=='105-10']\n",
    "reshape_105_11_temp=reshape_ocean_cnn[reshape_ocean_cnn[\"Station-Point\"]=='105-11']\n",
    "reshape_106_07_temp=reshape_ocean_cnn[reshape_ocean_cnn[\"Station-Point\"]=='106-07']\n",
    "reshape_106_08_temp=reshape_ocean_cnn[reshape_ocean_cnn[\"Station-Point\"]=='106-08']\n",
    "reshape_106_09_temp=reshape_ocean_cnn[reshape_ocean_cnn[\"Station-Point\"]=='106-09']\n",
    "reshape_106_10_temp=reshape_ocean_cnn[reshape_ocean_cnn[\"Station-Point\"]=='106-10']\n",
    "reshape_106_11_temp=reshape_ocean_cnn[reshape_ocean_cnn[\"Station-Point\"]=='106-11']"
   ]
  },
  {
   "cell_type": "code",
   "execution_count": null,
   "id": "f19f27b0",
   "metadata": {},
   "outputs": [],
   "source": [
    "year_mon_104_07=reshape_104_07_temp[\"DATE\"].str.slice(0,7)\n",
    "year_mon_104_08=reshape_104_08_temp[\"DATE\"].str.slice(0,7)\n",
    "year_mon_104_09=reshape_104_09_temp[\"DATE\"].str.slice(0,7)\n",
    "year_mon_104_10=reshape_104_10_temp[\"DATE\"].str.slice(0,7)\n",
    "year_mon_104_11=reshape_104_11_temp[\"DATE\"].str.slice(0,7)\n",
    "year_mon_105_07=reshape_105_07_temp[\"DATE\"].str.slice(0,7)\n",
    "year_mon_105_08=reshape_105_08_temp[\"DATE\"].str.slice(0,7)\n",
    "year_mon_105_09=reshape_105_09_temp[\"DATE\"].str.slice(0,7)\n",
    "year_mon_105_10=reshape_105_10_temp[\"DATE\"].str.slice(0,7)\n",
    "year_mon_105_11=reshape_105_11_temp[\"DATE\"].str.slice(0,7)\n",
    "year_mon_106_07=reshape_106_07_temp[\"DATE\"].str.slice(0,7)\n",
    "year_mon_106_08=reshape_106_08_temp[\"DATE\"].str.slice(0,7)\n",
    "year_mon_106_09=reshape_106_09_temp[\"DATE\"].str.slice(0,7)\n",
    "year_mon_106_10=reshape_106_10_temp[\"DATE\"].str.slice(0,7)\n",
    "year_mon_106_11=reshape_106_11_temp[\"DATE\"].str.slice(0,7)"
   ]
  },
  {
   "cell_type": "code",
   "execution_count": null,
   "id": "951a2873",
   "metadata": {},
   "outputs": [],
   "source": [
    "set_104_07=set(year_mon_104_07)\n",
    "set_104_08=set(year_mon_104_08)\n",
    "set_104_09=set(year_mon_104_09)\n",
    "set_104_10=set(year_mon_104_10)\n",
    "set_104_11=set(year_mon_104_11)\n",
    "\n",
    "set_105_07=set(year_mon_105_07)\n",
    "set_105_08=set(year_mon_105_08)\n",
    "set_105_09=set(year_mon_105_09)\n",
    "set_105_10=set(year_mon_105_10)\n",
    "set_105_11=set(year_mon_105_11)\n",
    "\n",
    "set_106_07=set(year_mon_106_07)\n",
    "set_106_08=set(year_mon_106_08)\n",
    "set_106_09=set(year_mon_106_09)\n",
    "set_106_10=set(year_mon_106_10)\n",
    "set_106_11=set(year_mon_106_11)"
   ]
  },
  {
   "cell_type": "code",
   "execution_count": null,
   "id": "1c7d4665",
   "metadata": {},
   "outputs": [],
   "source": [
    "set_104_08"
   ]
  },
  {
   "cell_type": "code",
   "execution_count": null,
   "id": "30253607",
   "metadata": {},
   "outputs": [],
   "source": [
    "set_common_104=(set_104_07&set_104_08&set_104_09&set_104_10&set_104_11)\n",
    "set_common_105=(set_105_07&set_105_08&set_105_09&set_105_10&set_105_11)\n",
    "set_common_106=(set_106_07&set_106_08&set_106_09&set_106_10&set_106_11)\n",
    "#set_common=set(set_common&set_104_09)\n",
    "\n",
    "set_common=(set_common_104&set_common_105&set_common_106)"
   ]
  },
  {
   "cell_type": "code",
   "execution_count": null,
   "id": "040a0f1d",
   "metadata": {},
   "outputs": [],
   "source": [
    "year_mon=list(set_common)"
   ]
  },
  {
   "cell_type": "code",
   "execution_count": null,
   "id": "9e901eee",
   "metadata": {},
   "outputs": [],
   "source": [
    "set_common"
   ]
  },
  {
   "cell_type": "code",
   "execution_count": null,
   "id": "0a9b8797",
   "metadata": {},
   "outputs": [],
   "source": [
    "import numpy as np\n",
    "reshape_ocean_cnn.dropna()\n",
    "type(reshape_ocean_cnn)\n",
    "reshape_ocean_cnn=reshape_ocean_cnn.dropna()"
   ]
  },
  {
   "cell_type": "code",
   "execution_count": null,
   "id": "116e7aae",
   "metadata": {},
   "outputs": [],
   "source": [
    "reshape_ocean_cnn"
   ]
  },
  {
   "cell_type": "code",
   "execution_count": null,
   "id": "5502b021",
   "metadata": {},
   "outputs": [],
   "source": [
    "reshape_ocean_cnn_common=pd.DataFrame()\n",
    "\n",
    "for year in year_mon:\n",
    "    reshape_ocean_cnn_temp=reshape_ocean_cnn[reshape_ocean_cnn[\"DATE\"].str.contains(year)]\n",
    "    reshape_ocean_cnn_common=pd.concat([reshape_ocean_cnn_temp,reshape_ocean_cnn_common])\n",
    "\n",
    "    \n",
    "pd.set_option('display.max_rows', None)\n",
    "\n",
    "reshape_ocean_cnn_common.shape\n",
    "reshape_ocean_cnn_common\n",
    "reshape_ocean_cnn_common.to_csv('reshape_ocean_cnn_common.csv')"
   ]
  },
  {
   "cell_type": "code",
   "execution_count": null,
   "id": "94fcc4c8",
   "metadata": {},
   "outputs": [],
   "source": [
    "depth_list=['10','20','30','50','75','100','125','150','200','250','300']\n",
    "for depth in depth_list:\n",
    "    print(depth)\n",
    "    reshape_ocean_cnn_common=pd.DataFrame()\n",
    "    reshape_ocean_cnn_temp=pd.DataFrame()\n",
    "    for year in year_mon:\n",
    "        print(year)\n",
    "        reshape_ocean_cnn_temp['DATE']=year\n",
    "        reshape_ocean_cnn_temp[\"104-07\"]=reshape_ocean_cnn.loc[(reshape_ocean_cnn[\"DATE\"].str.contains(year)) & (reshape_ocean_cnn[\"Station-Point\"]=='104-07'),depth].values\n",
    "        reshape_ocean_cnn_temp[\"104-08\"]=reshape_ocean_cnn.loc[(reshape_ocean_cnn[\"DATE\"].str.contains(year)) & (reshape_ocean_cnn[\"Station-Point\"]=='104-08'),depth].values\n",
    "        reshape_ocean_cnn_temp[\"104-09\"]=reshape_ocean_cnn.loc[(reshape_ocean_cnn[\"DATE\"].str.contains(year)) & (reshape_ocean_cnn[\"Station-Point\"]=='104-09'),depth].values\n",
    "        reshape_ocean_cnn_temp[\"104-10\"]=reshape_ocean_cnn.loc[(reshape_ocean_cnn[\"DATE\"].str.contains(year)) & (reshape_ocean_cnn[\"Station-Point\"]=='104-10'),depth].values\n",
    "        reshape_ocean_cnn_temp[\"104-11\"]=reshape_ocean_cnn.loc[(reshape_ocean_cnn[\"DATE\"].str.contains(year)) & (reshape_ocean_cnn[\"Station-Point\"]=='104-11'),depth].values\n",
    "        reshape_ocean_cnn_temp[\"105-07\"]=reshape_ocean_cnn.loc[(reshape_ocean_cnn[\"DATE\"].str.contains(year)) & (reshape_ocean_cnn[\"Station-Point\"]=='105-07'),depth].values\n",
    "        reshape_ocean_cnn_temp[\"105-08\"]=reshape_ocean_cnn.loc[(reshape_ocean_cnn[\"DATE\"].str.contains(year)) & (reshape_ocean_cnn[\"Station-Point\"]=='105-08'),depth].values\n",
    "        reshape_ocean_cnn_temp[\"105-09\"]=reshape_ocean_cnn.loc[(reshape_ocean_cnn[\"DATE\"].str.contains(year)) & (reshape_ocean_cnn[\"Station-Point\"]=='105-09'),depth].values\n",
    "        reshape_ocean_cnn_temp[\"105-10\"]=reshape_ocean_cnn.loc[(reshape_ocean_cnn[\"DATE\"].str.contains(year)) & (reshape_ocean_cnn[\"Station-Point\"]=='105-10'),depth].values\n",
    "        reshape_ocean_cnn_temp[\"105-11\"]=reshape_ocean_cnn.loc[(reshape_ocean_cnn[\"DATE\"].str.contains(year)) & (reshape_ocean_cnn[\"Station-Point\"]=='105-11'),depth].values\n",
    "        reshape_ocean_cnn_temp[\"106-07\"]=reshape_ocean_cnn.loc[(reshape_ocean_cnn[\"DATE\"].str.contains(year)) & (reshape_ocean_cnn[\"Station-Point\"]=='106-07'),depth].values\n",
    "        reshape_ocean_cnn_temp[\"106-08\"]=reshape_ocean_cnn.loc[(reshape_ocean_cnn[\"DATE\"].str.contains(year)) & (reshape_ocean_cnn[\"Station-Point\"]=='106-08'),depth].values\n",
    "        reshape_ocean_cnn_temp[\"106-09\"]=reshape_ocean_cnn.loc[(reshape_ocean_cnn[\"DATE\"].str.contains(year)) & (reshape_ocean_cnn[\"Station-Point\"]=='106-09'),depth].values\n",
    "        reshape_ocean_cnn_temp[\"106-10\"]=reshape_ocean_cnn.loc[(reshape_ocean_cnn[\"DATE\"].str.contains(year)) & (reshape_ocean_cnn[\"Station-Point\"]=='106-10'),depth].values\n",
    "        reshape_ocean_cnn_temp[\"106-11\"]=reshape_ocean_cnn.loc[(reshape_ocean_cnn[\"DATE\"].str.contains(year)) & (reshape_ocean_cnn[\"Station-Point\"]=='106-11'),depth].values\n",
    "        reshape_ocean_cnn_common=pd.concat([reshape_ocean_cnn_temp,reshape_ocean_cnn_common])\n",
    "        #print(reshape_ocean_cnn_common)\n",
    "    reshape_ocean_cnn_common.reset_index()\n",
    "    #print(depth)\n",
    "    reshape_ocean_cnn_common.to_csv('reshape_ocean_common_sub_'+depth+'.csv',index=False)\n",
    "    reshape_ocean_cnn_common_sub=pd.read_csv('reshape_ocean_common_sub_'+depth+'.csv')\n",
    "    reshape_ocean_cnn_common_sub=reshape_ocean_cnn_common_sub[['106-07','106-08','106-09','106-10','106-11','105-07','105-08','105-09','105-10','105-11','104-07','104-08','104-09','104-10','104-11']]\n",
    "    globals()['reshape_ocean_cnn_common_sub_'+depth]=reshape_ocean_cnn_common_sub.dropna()\n",
    "    \n",
    "reshape_ocean_cnn_common_sub_10"
   ]
  },
  {
   "cell_type": "code",
   "execution_count": null,
   "id": "5516c4d7",
   "metadata": {},
   "outputs": [],
   "source": [
    "reshape_ocean_cnn_common=pd.DataFrame()\n",
    "reshape_ocean_cnn_temp=pd.DataFrame()\n",
    "for year in year_mon:\n",
    "    print(year)\n",
    "    reshape_ocean_cnn_temp['DATE']=year\n",
    "    reshape_ocean_cnn_temp[\"104-07\"]=reshape_ocean_cnn.loc[(reshape_ocean_cnn[\"DATE\"].str.contains(year)) & (reshape_ocean_cnn[\"Station-Point\"]=='104-07'),\"SSH\"].values\n",
    "    reshape_ocean_cnn_temp[\"104-08\"]=reshape_ocean_cnn.loc[(reshape_ocean_cnn[\"DATE\"].str.contains(year)) & (reshape_ocean_cnn[\"Station-Point\"]=='104-08'),\"SSH\"].values\n",
    "    reshape_ocean_cnn_temp[\"104-09\"]=reshape_ocean_cnn.loc[(reshape_ocean_cnn[\"DATE\"].str.contains(year)) & (reshape_ocean_cnn[\"Station-Point\"]=='104-09'),\"SSH\"].values\n",
    "    reshape_ocean_cnn_temp[\"104-10\"]=reshape_ocean_cnn.loc[(reshape_ocean_cnn[\"DATE\"].str.contains(year)) & (reshape_ocean_cnn[\"Station-Point\"]=='104-10'),\"SSH\"].values\n",
    "    reshape_ocean_cnn_temp[\"104-11\"]=reshape_ocean_cnn.loc[(reshape_ocean_cnn[\"DATE\"].str.contains(year)) & (reshape_ocean_cnn[\"Station-Point\"]=='104-11'),\"SSH\"].values\n",
    "    reshape_ocean_cnn_temp[\"105-07\"]=reshape_ocean_cnn.loc[(reshape_ocean_cnn[\"DATE\"].str.contains(year)) & (reshape_ocean_cnn[\"Station-Point\"]=='105-07'),\"SSH\"].values\n",
    "    reshape_ocean_cnn_temp[\"105-08\"]=reshape_ocean_cnn.loc[(reshape_ocean_cnn[\"DATE\"].str.contains(year)) & (reshape_ocean_cnn[\"Station-Point\"]=='105-08'),\"SSH\"].values\n",
    "    reshape_ocean_cnn_temp[\"105-09\"]=reshape_ocean_cnn.loc[(reshape_ocean_cnn[\"DATE\"].str.contains(year)) & (reshape_ocean_cnn[\"Station-Point\"]=='105-09'),\"SSH\"].values\n",
    "    reshape_ocean_cnn_temp[\"105-10\"]=reshape_ocean_cnn.loc[(reshape_ocean_cnn[\"DATE\"].str.contains(year)) & (reshape_ocean_cnn[\"Station-Point\"]=='105-10'),\"SSH\"].values\n",
    "    reshape_ocean_cnn_temp[\"105-11\"]=reshape_ocean_cnn.loc[(reshape_ocean_cnn[\"DATE\"].str.contains(year)) & (reshape_ocean_cnn[\"Station-Point\"]=='105-11'),\"SSH\"].values\n",
    "    reshape_ocean_cnn_temp[\"106-07\"]=reshape_ocean_cnn.loc[(reshape_ocean_cnn[\"DATE\"].str.contains(year)) & (reshape_ocean_cnn[\"Station-Point\"]=='106-07'),\"SSH\"].values\n",
    "    reshape_ocean_cnn_temp[\"106-08\"]=reshape_ocean_cnn.loc[(reshape_ocean_cnn[\"DATE\"].str.contains(year)) & (reshape_ocean_cnn[\"Station-Point\"]=='106-08'),\"SSH\"].values\n",
    "    reshape_ocean_cnn_temp[\"106-09\"]=reshape_ocean_cnn.loc[(reshape_ocean_cnn[\"DATE\"].str.contains(year)) & (reshape_ocean_cnn[\"Station-Point\"]=='106-09'),\"SSH\"].values\n",
    "    reshape_ocean_cnn_temp[\"106-10\"]=reshape_ocean_cnn.loc[(reshape_ocean_cnn[\"DATE\"].str.contains(year)) & (reshape_ocean_cnn[\"Station-Point\"]=='106-10'),\"SSH\"].values\n",
    "    reshape_ocean_cnn_temp[\"106-11\"]=reshape_ocean_cnn.loc[(reshape_ocean_cnn[\"DATE\"].str.contains(year)) & (reshape_ocean_cnn[\"Station-Point\"]=='106-11'),\"SSH\"].values\n",
    "    reshape_ocean_cnn_common=pd.concat([reshape_ocean_cnn_temp,reshape_ocean_cnn_common])\n",
    "    print(reshape_ocean_cnn_common)\n",
    "\n",
    "reshape_ocean_cnn_common.reset_index()\n",
    "reshape_ocean_cnn_common.to_csv('reshape_ocean_common_ssh.csv',index=False)\n",
    "reshape_ocean_cnn_common_ssh=pd.read_csv('reshape_ocean_common_ssh.csv')\n",
    "reshape_ocean_cnn_common_ssh=reshape_ocean_cnn_common_ssh[['106-07','106-08','106-09','106-10','106-11','105-07','105-08','105-09','105-10','105-11','104-07','104-08','104-09','104-10','104-11']]\n",
    "globals()['reshape_ocean_cnn_common_ssh']=reshape_ocean_cnn_common_sub.dropna()\n",
    "#reshape_ocean_cnn_common_ssh=reshape_ocean_cnn_common_ssh.dropna()\n",
    "reshape_ocean_cnn_common_ssh\n",
    "#reshape_ocean_cnn_common_ssh=reshape_ocean_cnn_common_ssh[['106-07','106-08','106-09','106-10','106-11','105-07','105-08','105-09','105-10','105-11','104-07','104-08','104-09','104-10','104-11']]\n",
    "#reshape_ocean_cnn_common_ssh"
   ]
  },
  {
   "cell_type": "code",
   "execution_count": null,
   "id": "87301085",
   "metadata": {},
   "outputs": [],
   "source": []
  },
  {
   "cell_type": "code",
   "execution_count": null,
   "id": "ac576070",
   "metadata": {},
   "outputs": [],
   "source": [
    "from sdv.tabular import CopulaGAN\n",
    "#model_upper = CopulaGAN(constraints=constraints_upper)\n",
    "model=CopulaGAN()\n",
    "#model_upper.fit(ocean_train_upper)\n",
    "model.fit(reshape_ocean_cnn_common_ssh)\n",
    "#model_upper.sample(100, max_retries=100000, conditions=conditions)\n",
    "model.sample(1000, max_retries=1000000)"
   ]
  },
  {
   "cell_type": "code",
   "execution_count": null,
   "id": "f3dfd7b8",
   "metadata": {},
   "outputs": [],
   "source": [
    "reshape_ocean_cnn_common_sst=pd.DataFrame()\n",
    "reshape_ocean_cnn_temp=pd.DataFrame()\n",
    "for year in year_mon:\n",
    "    reshape_ocean_cnn_temp[\"DATE\"]=year\n",
    "    reshape_ocean_cnn_temp[\"104-07\"]=reshape_ocean_cnn.loc[(reshape_ocean_cnn[\"DATE\"].str.contains(year)) & (reshape_ocean_cnn[\"Station-Point\"]=='104-07'),\"0\"].values\n",
    "    reshape_ocean_cnn_temp[\"104-08\"]=reshape_ocean_cnn.loc[(reshape_ocean_cnn[\"DATE\"].str.contains(year)) & (reshape_ocean_cnn[\"Station-Point\"]=='104-08'),\"0\"].values\n",
    "    reshape_ocean_cnn_temp[\"104-09\"]=reshape_ocean_cnn.loc[(reshape_ocean_cnn[\"DATE\"].str.contains(year)) & (reshape_ocean_cnn[\"Station-Point\"]=='104-09'),\"0\"].values\n",
    "    reshape_ocean_cnn_temp[\"104-10\"]=reshape_ocean_cnn.loc[(reshape_ocean_cnn[\"DATE\"].str.contains(year)) & (reshape_ocean_cnn[\"Station-Point\"]=='104-10'),\"0\"].values\n",
    "    reshape_ocean_cnn_temp[\"104-11\"]=reshape_ocean_cnn.loc[(reshape_ocean_cnn[\"DATE\"].str.contains(year)) & (reshape_ocean_cnn[\"Station-Point\"]=='104-11'),\"0\"].values\n",
    "    reshape_ocean_cnn_temp[\"105-07\"]=reshape_ocean_cnn.loc[(reshape_ocean_cnn[\"DATE\"].str.contains(year)) & (reshape_ocean_cnn[\"Station-Point\"]=='105-07'),\"0\"].values\n",
    "    reshape_ocean_cnn_temp[\"105-08\"]=reshape_ocean_cnn.loc[(reshape_ocean_cnn[\"DATE\"].str.contains(year)) & (reshape_ocean_cnn[\"Station-Point\"]=='105-08'),\"0\"].values\n",
    "    reshape_ocean_cnn_temp[\"105-09\"]=reshape_ocean_cnn.loc[(reshape_ocean_cnn[\"DATE\"].str.contains(year)) & (reshape_ocean_cnn[\"Station-Point\"]=='105-09'),\"0\"].values\n",
    "    reshape_ocean_cnn_temp[\"105-10\"]=reshape_ocean_cnn.loc[(reshape_ocean_cnn[\"DATE\"].str.contains(year)) & (reshape_ocean_cnn[\"Station-Point\"]=='105-10'),\"0\"].values\n",
    "    reshape_ocean_cnn_temp[\"105-11\"]=reshape_ocean_cnn.loc[(reshape_ocean_cnn[\"DATE\"].str.contains(year)) & (reshape_ocean_cnn[\"Station-Point\"]=='105-11'),\"0\"].values\n",
    "    reshape_ocean_cnn_temp[\"106-07\"]=reshape_ocean_cnn.loc[(reshape_ocean_cnn[\"DATE\"].str.contains(year)) & (reshape_ocean_cnn[\"Station-Point\"]=='106-07'),\"0\"].values\n",
    "    reshape_ocean_cnn_temp[\"106-08\"]=reshape_ocean_cnn.loc[(reshape_ocean_cnn[\"DATE\"].str.contains(year)) & (reshape_ocean_cnn[\"Station-Point\"]=='106-08'),\"0\"].values\n",
    "    reshape_ocean_cnn_temp[\"106-09\"]=reshape_ocean_cnn.loc[(reshape_ocean_cnn[\"DATE\"].str.contains(year)) & (reshape_ocean_cnn[\"Station-Point\"]=='106-09'),\"0\"].values\n",
    "    reshape_ocean_cnn_temp[\"106-10\"]=reshape_ocean_cnn.loc[(reshape_ocean_cnn[\"DATE\"].str.contains(year)) & (reshape_ocean_cnn[\"Station-Point\"]=='106-10'),\"0\"].values\n",
    "    reshape_ocean_cnn_temp[\"106-11\"]=reshape_ocean_cnn.loc[(reshape_ocean_cnn[\"DATE\"].str.contains(year)) & (reshape_ocean_cnn[\"Station-Point\"]=='106-11'),\"0\"].values\n",
    "    reshape_ocean_cnn_common_sst=pd.concat([reshape_ocean_cnn_temp,reshape_ocean_cnn_common_sst])\n",
    "    #reshape_ocean_cnn_common_sst=pd.concat([reshape_ocean_cnn_temp,reshape_ocean_cnn_common_sst])\n",
    "\n",
    "reshape_ocean_cnn_common_sst.reset_index()\n",
    "reshape_ocean_cnn_common_sst.to_csv('reshape_ocean_cnn_common_sst.csv',index=False)\n",
    "reshape_ocean_cnn_common_sst=pd.read_csv('reshape_ocean_cnn_common_sst.csv')\n",
    "#reshape_ocean_cnn_common_sst=reshape_ocean_cnn_common_sst.dropna()\n",
    "reshape_ocean_cnn_common_sst=reshape_ocean_cnn_common_sst[['106-07','106-08','106-09','106-10','106-11','105-07','105-08','105-09','105-10','105-11','104-07','104-08','104-09','104-10','104-11']]\n",
    "#reshape_ocean_cnn_common_sst\n",
    "globals()['reshape_ocean_cnn_common_sst']=reshape_ocean_cnn_common_sst.dropna()\n",
    "#reshape_ocean_cnn_common_sst=reshape_ocean_cnn_common_sst[['106-07','106-08','106-09','106-10','106-11','105-07','105-08','105-09','105-10','105-11','104-07','104-08','104-09','104-10','104-11']]\n",
    "reshape_ocean_cnn_common_sst\n",
    "#reshape_ocean_cnn_common_sst=reshape_ocean_cnn_common_sst[['106-07','106-08','106-09','106-10','106-11','105-07','105-08','105-09','105-10','105-11','104-07','104-08','104-09','104-10','104-11']]\n",
    "reshape_ocean_cnn_common_sst\n",
    "#reshape_ocean_cnn_common_sst['DATE','106-07','106-08','106-09','106-10','106-11','105-07','105-08','105-09','105-10','105-11','104-07','104-8','104-09','104-10','104-11']"
   ]
  },
  {
   "cell_type": "code",
   "execution_count": null,
   "id": "af58c8a7",
   "metadata": {},
   "outputs": [],
   "source": [
    "reshape_ocean_common_sub_10"
   ]
  },
  {
   "cell_type": "code",
   "execution_count": null,
   "id": "766c54c3",
   "metadata": {},
   "outputs": [],
   "source": []
  },
  {
   "cell_type": "code",
   "execution_count": null,
   "id": "1151c7d4",
   "metadata": {},
   "outputs": [],
   "source": []
  },
  {
   "cell_type": "code",
   "execution_count": null,
   "id": "c6b13d78",
   "metadata": {},
   "outputs": [],
   "source": []
  },
  {
   "cell_type": "code",
   "execution_count": null,
   "id": "4fd77a76",
   "metadata": {},
   "outputs": [],
   "source": [
    "x = np.array([1, 2, 3])\n",
    "\n",
    "# row vector via reshape\n",
    "x.reshape((1, 3))\n",
    "\n",
    "reshape_ocean_cnn_sst_array=reshape_ocean_cnn_common_sst.to_numpy()\n",
    "reshape_ocean_cnn_sst_array.shape\n",
    "reshape_ocean_cnn_sst_array.reshape(11,3,5)\n",
    "\n",
    "reshape_ocean_cnn_ssh_array=reshape_ocean_cnn_common_ssh.to_numpy()\n",
    "reshape_ocean_cnn_ssh_array.shape\n",
    "reshape_ocean_cnn_ssh_array.reshape(11,3,5)\n",
    "\n",
    "\n",
    "reshape_ocean_cnn_sub_10_array=reshape_ocean_cnn_common_sub_10.to_numpy()\n",
    "reshape_ocean_cnn_sub_10_array.shape\n",
    "reshape_ocean_cnn_sub_10_array.reshape(11,3,5)\n",
    "\n",
    "\n",
    "reshape_ocean_cnn_sub_250_array=reshape_ocean_cnn_common_sub_250.to_numpy()\n",
    "reshape_ocean_cnn_sub_250_array.shape\n",
    "reshape_ocean_cnn_sub_250_array.reshape(11,3,5)"
   ]
  },
  {
   "cell_type": "code",
   "execution_count": null,
   "id": "8caf7da5",
   "metadata": {},
   "outputs": [],
   "source": [
    "import numpy as np\n",
    "from keras.layers import Input, Conv2D\n",
    "from keras.models import Model\n",
    "\n",
    "#red   = np.array([1]*9).reshape((3,3))\n",
    "#green = np.array([100]*9).reshape((3,3))\n",
    "#blue  = np.array([10000]*9).reshape((3,3))\n",
    "\n",
    "inputs = Input((2,5,3))\n",
    "conv = Conv2D(filters=1, \n",
    "              strides=1, \n",
    "              padding='valid', \n",
    "              activation='relu',\n",
    "              kernel_size=2, \n",
    "              kernel_initializer='ones', \n",
    "              bias_initializer='zeros', )(inputs)\n",
    "model = Model(inputs,conv)\n"
   ]
  },
  {
   "cell_type": "code",
   "execution_count": null,
   "id": "b2322532",
   "metadata": {},
   "outputs": [],
   "source": [
    "from sdv.constraints import GreaterThan\n",
    "depth_temp_0_10_const = GreaterThan(\n",
    "low='10',\n",
    "high='0',\n",
    "handling_strategy='reject_sampling')\n",
    "#0\t10\t20\t30\t50\t75\t100\t125\t150\t200\t250\t300\t400\t500\n",
    "depth_temp_20_10_const = GreaterThan(\n",
    "low='20',\n",
    "high='10',\n",
    "handling_strategy='reject_sampling')\n",
    "\n",
    "depth_temp_30_20_const = GreaterThan(\n",
    "low='30',\n",
    "high='20',\n",
    "handling_strategy='reject_sampling')\n",
    "\n",
    "depth_temp_50_30_const = GreaterThan(\n",
    "low='50',\n",
    "high='30',\n",
    "handling_strategy='reject_sampling')\n",
    "\n",
    "depth_temp_75_50_const = GreaterThan(\n",
    "low='75',\n",
    "high='50',\n",
    "handling_strategy='reject_sampling')\n",
    "\n",
    "depth_temp_100_75_const = GreaterThan(\n",
    "low='100',\n",
    "high='75',\n",
    "handling_strategy='reject_sampling')\n",
    "\n",
    "depth_temp_125_100_const = GreaterThan(\n",
    "low='125',\n",
    "high='100',\n",
    "handling_strategy='reject_sampling')\n",
    "\n",
    "depth_temp_150_125_const = GreaterThan(\n",
    "low='150',\n",
    "high='125',\n",
    "handling_strategy='reject_sampling')\n",
    "\n",
    "\n",
    "depth_temp_200_150_const = GreaterThan(\n",
    "low='200',\n",
    "high='150',\n",
    "handling_strategy='reject_sampling')\n",
    "\n",
    "\n",
    "depth_temp_250_200_const = GreaterThan(\n",
    "low='250',\n",
    "high='200',\n",
    "handling_strategy='reject_sampling')\n",
    "\n",
    "depth_temp_300_250_const = GreaterThan(\n",
    "low='300',\n",
    "high='250',\n",
    "handling_strategy='reject_sampling')\n",
    "\n",
    "depth_temp_400_300_const = GreaterThan(\n",
    "low='400',\n",
    "high='300',\n",
    "handling_strategy='reject_sampling')\n",
    "\n",
    "depth_temp_500_400_const = GreaterThan(\n",
    "low='500',\n",
    "high='400',\n",
    "handling_strategy='reject_sampling')\n",
    "\n",
    "constraints_upper = [depth_temp_0_10_const,\n",
    "                     depth_temp_20_10_const,\n",
    "                     depth_temp_30_20_const,\n",
    "                     depth_temp_50_30_const,\n",
    "                     depth_temp_75_50_const,\n",
    "                     depth_temp_100_75_const,\n",
    "                     depth_temp_125_100_const,\n",
    "                     depth_temp_150_125_const,\n",
    "                     depth_temp_200_150_const,\n",
    "                     depth_temp_250_200_const,\n",
    "                     depth_temp_300_250_const,\n",
    "                     depth_temp_400_300_const,\n",
    "                     depth_temp_500_400_const]\n",
    "\n",
    "constraints_upper2 = [depth_temp_0_10_const,\n",
    "                     depth_temp_20_10_const,\n",
    "                     depth_temp_30_20_const,\n",
    "                     depth_temp_50_30_const,\n",
    "                     depth_temp_75_50_const,\n",
    "                     depth_temp_100_75_const,\n",
    "                     depth_temp_125_100_const,\n",
    "                     depth_temp_150_125_const,\n",
    "                     depth_temp_200_150_const,\n",
    "                     depth_temp_250_200_const,\n",
    "                     depth_temp_300_250_const]"
   ]
  },
  {
   "cell_type": "code",
   "execution_count": null,
   "id": "fe7f20be",
   "metadata": {},
   "outputs": [],
   "source": [
    "reshape_ocean_cnn_common_sst"
   ]
  },
  {
   "cell_type": "code",
   "execution_count": null,
   "id": "423e5134",
   "metadata": {},
   "outputs": [],
   "source": [
    "reshape_ocean_cnn_common_sub_20"
   ]
  },
  {
   "cell_type": "code",
   "execution_count": null,
   "id": "6a912cdf",
   "metadata": {},
   "outputs": [],
   "source": [
    "from sdv.tabular import GaussianCopula\n",
    "model = GaussianCopula(constraints=constraints_upper2)\n",
    "model.fit(reshape_ocean_cnn)\n",
    "model_ctn_output = model.sample(1000, max_retries=1000000)"
   ]
  },
  {
   "cell_type": "code",
   "execution_count": null,
   "id": "39a29c1d",
   "metadata": {},
   "outputs": [],
   "source": []
  },
  {
   "cell_type": "code",
   "execution_count": null,
   "id": "a6984560",
   "metadata": {},
   "outputs": [],
   "source": [
    "model_ctn_output"
   ]
  },
  {
   "cell_type": "code",
   "execution_count": null,
   "id": "7bf2d0bb",
   "metadata": {},
   "outputs": [],
   "source": [
    "reshape_104_07_temp=model_ctn_output[model_ctn_output[\"Station-Point\"]=='104-07']\n",
    "reshape_104_08_temp=model_ctn_output[model_ctn_output[\"Station-Point\"]=='104-08']\n",
    "reshape_104_09_temp=model_ctn_output[model_ctn_output[\"Station-Point\"]=='104-09']\n",
    "reshape_104_10_temp=model_ctn_output[model_ctn_output[\"Station-Point\"]=='104-10']\n",
    "reshape_104_11_temp=model_ctn_output[model_ctn_output[\"Station-Point\"]=='104-11']\n",
    "reshape_105_07_temp=model_ctn_output[model_ctn_output[\"Station-Point\"]=='105-07']\n",
    "reshape_105_08_temp=model_ctn_output[model_ctn_output[\"Station-Point\"]=='105-08']\n",
    "reshape_105_09_temp=model_ctn_output[model_ctn_output[\"Station-Point\"]=='105-09']\n",
    "reshape_105_10_temp=model_ctn_output[model_ctn_output[\"Station-Point\"]=='105-10']\n",
    "reshape_105_11_temp=model_ctn_output[model_ctn_output[\"Station-Point\"]=='105-11']\n",
    "reshape_106_07_temp=model_ctn_output[model_ctn_output[\"Station-Point\"]=='106-07']\n",
    "reshape_106_08_temp=model_ctn_output[model_ctn_output[\"Station-Point\"]=='106-08']\n",
    "reshape_106_09_temp=model_ctn_output[model_ctn_output[\"Station-Point\"]=='106-09']\n",
    "reshape_106_10_temp=model_ctn_output[model_ctn_output[\"Station-Point\"]=='106-10']\n",
    "reshape_106_11_temp=model_ctn_output[model_ctn_output[\"Station-Point\"]=='106-11']"
   ]
  },
  {
   "cell_type": "code",
   "execution_count": null,
   "id": "57f17f27",
   "metadata": {},
   "outputs": [],
   "source": [
    "year_mon_104_07=reshape_104_07_temp[\"DATE\"].str.slice(0,7)\n",
    "year_mon_104_08=reshape_104_08_temp[\"DATE\"].str.slice(0,7)\n",
    "year_mon_104_09=reshape_104_09_temp[\"DATE\"].str.slice(0,7)\n",
    "year_mon_104_10=reshape_104_10_temp[\"DATE\"].str.slice(0,7)\n",
    "year_mon_104_11=reshape_104_11_temp[\"DATE\"].str.slice(0,7)\n",
    "year_mon_105_07=reshape_105_07_temp[\"DATE\"].str.slice(0,7)\n",
    "year_mon_105_08=reshape_105_08_temp[\"DATE\"].str.slice(0,7)\n",
    "year_mon_105_09=reshape_105_09_temp[\"DATE\"].str.slice(0,7)\n",
    "year_mon_105_10=reshape_105_10_temp[\"DATE\"].str.slice(0,7)\n",
    "year_mon_105_11=reshape_105_11_temp[\"DATE\"].str.slice(0,7)\n",
    "year_mon_106_07=reshape_106_07_temp[\"DATE\"].str.slice(0,7)\n",
    "year_mon_106_08=reshape_106_08_temp[\"DATE\"].str.slice(0,7)\n",
    "year_mon_106_09=reshape_106_09_temp[\"DATE\"].str.slice(0,7)\n",
    "year_mon_106_10=reshape_106_10_temp[\"DATE\"].str.slice(0,7)\n",
    "year_mon_106_11=reshape_106_11_temp[\"DATE\"].str.slice(0,7)"
   ]
  },
  {
   "cell_type": "code",
   "execution_count": null,
   "id": "1b70682e",
   "metadata": {},
   "outputs": [],
   "source": []
  },
  {
   "cell_type": "code",
   "execution_count": null,
   "id": "0e745b34",
   "metadata": {},
   "outputs": [],
   "source": [
    "set_104_07=set(year_mon_104_07)\n",
    "set_104_08=set(year_mon_104_08)\n",
    "set_104_09=set(year_mon_104_09)\n",
    "set_104_10=set(year_mon_104_10)\n",
    "set_104_11=set(year_mon_104_11)\n",
    "\n",
    "set_105_07=set(year_mon_105_07)\n",
    "set_105_08=set(year_mon_105_08)\n",
    "set_105_09=set(year_mon_105_09)\n",
    "set_105_10=set(year_mon_105_10)\n",
    "set_105_11=set(year_mon_105_11)\n",
    "\n",
    "set_106_07=set(year_mon_106_07)\n",
    "set_106_08=set(year_mon_106_08)\n",
    "set_106_09=set(year_mon_106_09)\n",
    "set_106_10=set(year_mon_106_10)\n",
    "set_106_11=set(year_mon_106_11)"
   ]
  },
  {
   "cell_type": "code",
   "execution_count": null,
   "id": "8d937614",
   "metadata": {},
   "outputs": [],
   "source": [
    "set_105_08"
   ]
  },
  {
   "cell_type": "code",
   "execution_count": null,
   "id": "02ef5e2b",
   "metadata": {},
   "outputs": [],
   "source": [
    "set_common_104=(set_104_07&set_104_08&set_104_09&set_104_10&set_104_11)\n",
    "set_common_105=(set_105_07&set_105_08&set_105_09&set_105_10&set_105_11)\n",
    "set_common_106=(set_106_07&set_106_08&set_106_09&set_106_10&set_106_11)\n",
    "#set_common=set(set_common&set_104_09)\n",
    "\n",
    "set_common=(set_common_104&set_common_105&set_common_106)"
   ]
  },
  {
   "cell_type": "code",
   "execution_count": null,
   "id": "3765db6b",
   "metadata": {},
   "outputs": [],
   "source": [
    "print(set_104_09)"
   ]
  },
  {
   "cell_type": "code",
   "execution_count": null,
   "id": "eea93a58",
   "metadata": {},
   "outputs": [],
   "source": [
    "year_mon=list(set_common)"
   ]
  },
  {
   "cell_type": "code",
   "execution_count": null,
   "id": "332a1700",
   "metadata": {},
   "outputs": [],
   "source": [
    "year_mon"
   ]
  },
  {
   "cell_type": "code",
   "execution_count": null,
   "id": "2322f34f",
   "metadata": {},
   "outputs": [],
   "source": [
    "depth_list=['10','20','30','50','75','100','125','150','200','250','300']\n",
    "for depth in depth_list:\n",
    "    print(depth)\n",
    "    reshape_ocean_ctn_common=pd.DataFrame()\n",
    "    reshape_ocean_ctn_temp=pd.DataFrame()\n",
    "    for year in year_mon:\n",
    "        print(year)\n",
    "        reshape_ocean_ctn_temp['DATE']=year\n",
    "        reshape_ocean_ctn_temp[\"104-07\"]=model_ctn_output.loc[(model_ctn_output[\"DATE\"].str.contains(year)) & (model_ctn_output[\"Station-Point\"]=='104-07'),depth].values\n",
    "        reshape_ocean_ctn_temp[\"104-08\"]=model_ctn_output.loc[(model_ctn_output[\"DATE\"].str.contains(year)) & (model_ctn_output[\"Station-Point\"]=='104-08'),depth].values\n",
    "        reshape_ocean_ctn_temp[\"104-09\"]=model_ctn_output.loc[(model_ctn_output[\"DATE\"].str.contains(year)) & (model_ctn_output[\"Station-Point\"]=='104-09'),depth].values\n",
    "        reshape_ocean_ctn_temp[\"104-10\"]=model_ctn_output.loc[(model_ctn_output[\"DATE\"].str.contains(year)) & (model_ctn_output[\"Station-Point\"]=='104-10'),depth].values\n",
    "        reshape_ocean_ctn_temp[\"104-11\"]=model_ctn_output.loc[(model_ctn_output[\"DATE\"].str.contains(year)) & (model_ctn_output[\"Station-Point\"]=='104-11'),depth].values\n",
    "        reshape_ocean_ctn_temp[\"105-07\"]=model_ctn_output.loc[(model_ctn_output[\"DATE\"].str.contains(year)) & (model_ctn_output[\"Station-Point\"]=='105-07'),depth].values\n",
    "        reshape_ocean_ctn_temp[\"105-08\"]=model_ctn_output.loc[(model_ctn_output[\"DATE\"].str.contains(year)) & (model_ctn_output[\"Station-Point\"]=='105-08'),depth].values\n",
    "        reshape_ocean_ctn_temp[\"105-09\"]=model_ctn_output.loc[(model_ctn_output[\"DATE\"].str.contains(year)) & (model_ctn_output[\"Station-Point\"]=='105-09'),depth].values\n",
    "        reshape_ocean_ctn_temp[\"105-10\"]=model_ctn_output.loc[(model_ctn_output[\"DATE\"].str.contains(year)) & (model_ctn_output[\"Station-Point\"]=='105-10'),depth].values\n",
    "        reshape_ocean_ctn_temp[\"105-11\"]=model_ctn_output.loc[(model_ctn_output[\"DATE\"].str.contains(year)) & (model_ctn_output[\"Station-Point\"]=='105-11'),depth].values\n",
    "        reshape_ocean_ctn_temp[\"106-07\"]=model_ctn_output.loc[(model_ctn_output[\"DATE\"].str.contains(year)) & (model_ctn_output[\"Station-Point\"]=='106-07'),depth].values\n",
    "        reshape_ocean_ctn_temp[\"106-08\"]=model_ctn_output.loc[(model_ctn_output[\"DATE\"].str.contains(year)) & (model_ctn_output[\"Station-Point\"]=='106-08'),depth].values\n",
    "        reshape_ocean_ctn_temp[\"106-09\"]=model_ctn_output.loc[(model_ctn_output[\"DATE\"].str.contains(year)) & (model_ctn_output[\"Station-Point\"]=='106-09'),depth].values\n",
    "        reshape_ocean_ctn_temp[\"106-10\"]=model_ctn_output.loc[(model_ctn_output[\"DATE\"].str.contains(year)) & (model_ctn_output[\"Station-Point\"]=='106-10'),depth].values\n",
    "        reshape_ocean_ctn_temp[\"106-11\"]=model_ctn_output.loc[(model_ctn_output[\"DATE\"].str.contains(year)) & (model_ctn_output[\"Station-Point\"]=='106-11'),depth].values\n",
    "        reshape_ocean_ctn_common=pd.concat([reshape_ocean_ctn_temp,reshape_ocean_ctn_common])\n",
    "        #print(reshape_ocean_cnn_common)\n",
    "    reshape_ocean_ctn_common.reset_index()\n",
    "    #print(depth)\n",
    "    reshape_ocean_ctn_common.to_csv('reshape_ocean_ctn_common_sub_'+depth+'.csv',index=False)\n",
    "    reshape_ocean_ctn_common_sub=pd.read_csv('reshape_ocean_ctn_common_sub_'+depth+'.csv')\n",
    "    reshape_ocean_ctn_common_sub=reshape_ocean_ctn_common_sub[['106-07','106-08','106-09','106-10','106-11','105-07','105-08','105-09','105-10','105-11','104-07','104-08','104-09','104-10','104-11']]\n",
    "    globals()['reshape_ocean_ctn_common_sub_'+depth]=reshape_ocean_ctn_common_sub.dropna()\n",
    "    \n",
    "reshape_ocean_ctn_common_sub_10"
   ]
  },
  {
   "cell_type": "code",
   "execution_count": null,
   "id": "0adfb3b5",
   "metadata": {},
   "outputs": [],
   "source": [
    "model_ctn_output\n",
    "df=pd.DataFrame(model_ctn_output)\n",
    "tmp=[]\n",
    "for index, row in df.iterrows():\n",
    "    tmp.append(row['0'])\n",
    "    tmp.append(row['10'])\n",
    "    tmp.append(row['20'])\n",
    "    tmp.append(row['30'])\n",
    "    tmp.append(row['50'])\n",
    "    tmp.append(row['75'])\n",
    "    tmp.append(row['100'])\n",
    "    tmp.append(row['125'])\n",
    "    tmp.append(row['150'])\n",
    "    tmp.append(row['200'])\n",
    "    tmp.append(row['250'])\n",
    "    tmp.append(row['300'])\n",
    "    Depth  = [ 0, 10,  20,  30,  50, 75, 100, 125, 150, 200, 250, 300 ]\n",
    "    fig = plt.figure()\n",
    "    ax = fig.add_subplot(111)\n",
    "    ax.plot(tmp, Depth, 'go--')\n",
    "    ax.xaxis.tick_top()\n",
    "    ax.set_ylabel('depth')\n",
    "    ax.set_ylim(500, 0)\n",
    "    ax.set_xlim(0, 25)\n",
    "    ax.set_xlabel('Sea Temp level [ppm]')\n",
    "    plt.show()\n",
    "    tmp=[]"
   ]
  },
  {
   "cell_type": "code",
   "execution_count": null,
   "id": "aa4bbf73",
   "metadata": {},
   "outputs": [],
   "source": [
    "model_ctn_output.shape\n",
    "height_list=[0,1,2,3,4]\n",
    "weight_list=[0,1,2]\n",
    "list=[0,1,2,3,4,5]\n",
    "for case in list:\n",
    "    for height in height_list:\n",
    "        for weight in weight_list:\n",
    "            temp_list=[]\n",
    "            for depth in depth_list:\n",
    "                temp=model_ctn_output[[depth]]\n",
    "                temp_list.append(temp)\n",
    "        \n",
    "    #print(temp_list)\n",
    "        print(temp_list)\n",
    "        Depth  = [ 10,  20,  30,  50, 75, 100, 125, 150, 200, 250, 300 ]\n",
    "        fig = plt.figure()\n",
    "        ax = fig.add_subplot(111)\n",
    "        ax.plot(temp_list, Depth, 'go--')\n",
    "        ax.xaxis.tick_top()\n",
    "        ax.set_ylabel('depth')\n",
    "        ax.set_ylim(500, 0)\n",
    "        ax.set_xlim(0, 25)\n",
    "        ax.set_xlabel('Sea Temp level [ppm]')\n",
    "        plt.show()"
   ]
  },
  {
   "cell_type": "code",
   "execution_count": null,
   "id": "c521866e",
   "metadata": {},
   "outputs": [],
   "source": [
    "reshape_ocean_cnn_common_sst"
   ]
  },
  {
   "cell_type": "code",
   "execution_count": null,
   "id": "19f43462",
   "metadata": {},
   "outputs": [],
   "source": [
    "#from sdv.tabular import CopulaGAN\n",
    "#model_upper = CopulaGAN(constraints=constraints_upper)\n",
    "#model=CopulaGAN()\n",
    "from sdv.tabular import CTGAN\n",
    "#model_upper.fit(ocean_train_upper)\n",
    "model=CTGAN()\n",
    "model.fit(reshape_ocean_cnn_common_sst)\n",
    "#model_upper.sample(100, max_retries=100000, conditions=conditions)\n",
    "#model.sample(1000, max_retries=1000000)\n",
    "model_ctn_output_sst=model.sample(1000, max_retries=1000000)\n",
    "\n",
    "from sdv.tabular import GaussianCopula\n",
    "model = GaussianCopula()\n",
    "model.fit(reshape_ocean_cnn_common_ssh)\n",
    "model_ctn_output_ssh= model.sample(1000, max_retries=1000000)"
   ]
  },
  {
   "cell_type": "code",
   "execution_count": null,
   "id": "4cde2fe3",
   "metadata": {},
   "outputs": [],
   "source": []
  },
  {
   "cell_type": "code",
   "execution_count": null,
   "id": "e8874fb1",
   "metadata": {},
   "outputs": [],
   "source": [
    "df = pd.DataFrame(model_ctn_output,columns=['104-07','104-08','104-09','104-10','104-11','105-07','105-08','105-09','105-10','105-11','106-07','106-08','106-09','106-10','106-11'])"
   ]
  },
  {
   "cell_type": "code",
   "execution_count": null,
   "id": "e33abf9d",
   "metadata": {},
   "outputs": [],
   "source": [
    "df"
   ]
  },
  {
   "cell_type": "code",
   "execution_count": null,
   "id": "56bb7b64",
   "metadata": {},
   "outputs": [],
   "source": [
    "model_ctn_output"
   ]
  },
  {
   "cell_type": "code",
   "execution_count": null,
   "id": "a70aab49",
   "metadata": {},
   "outputs": [],
   "source": [
    "red   = np.array([1]*9).reshape((3,3))\n",
    "green = np.array([100]*9).reshape((3,3))\n",
    "blue  = np.array([10000]*9).reshape((3,3))\n",
    "img = np.stack([red, green, blue], axis=-1)\n",
    "img = np.expand_dims(img, axis=0)"
   ]
  },
  {
   "cell_type": "code",
   "execution_count": null,
   "id": "7c25846e",
   "metadata": {},
   "outputs": [],
   "source": [
    "red\n",
    "green\n",
    "blue"
   ]
  },
  {
   "cell_type": "code",
   "execution_count": null,
   "id": "62e2d639",
   "metadata": {},
   "outputs": [],
   "source": []
  },
  {
   "cell_type": "code",
   "execution_count": null,
   "id": "96e7bcd4",
   "metadata": {},
   "outputs": [],
   "source": [
    "img\n",
    "inputs = Input((3,3,3))\n",
    "conv = Conv2D(filters=1, \n",
    "              strides=1, \n",
    "              padding='valid', \n",
    "              activation='relu',\n",
    "              kernel_size=2, \n",
    "              kernel_initializer='ones', \n",
    "              bias_initializer='zeros', )(inputs)\n",
    "model = Model(inputs,conv)\n",
    "img"
   ]
  },
  {
   "cell_type": "code",
   "execution_count": null,
   "id": "c2460491",
   "metadata": {},
   "outputs": [],
   "source": [
    "import os\n",
    "os.environ['CUDA_VISIBLE_DEVICES']='1'"
   ]
  },
  {
   "cell_type": "code",
   "execution_count": null,
   "id": "68bcf14d",
   "metadata": {},
   "outputs": [],
   "source": [
    "#import tensorflow as tf\n",
    "#tf.config.experimental.set_memory_growth(tf.config.list_physical_devices('GPU')[0], True)"
   ]
  },
  {
   "cell_type": "code",
   "execution_count": null,
   "id": "7553d2e9",
   "metadata": {},
   "outputs": [],
   "source": [
    "import tensorflow as tf\n",
    "gpus = tf.config.experimental.list_physical_devices('GPU')\n",
    "if gpus:\n",
    "    try:\n",
    "        # Currently, memory growth needs to be the same across GPUs\n",
    "        for gpu in gpus:\n",
    "            tf.config.experimental.set_memory_growth(gpu, True)\n",
    "        logical_gpus = tf.config.experimental.list_logical_devices('GPU')\n",
    "        print(len(gpus), \"Physical GPUs,\", len(logical_gpus), \"Logical GPUs\")\n",
    "    except RuntimeError as e:\n",
    "        # Memory growth must be set before GPUs have been initialized\n",
    "        print(e)"
   ]
  },
  {
   "cell_type": "code",
   "execution_count": null,
   "id": "6c67ae52",
   "metadata": {},
   "outputs": [],
   "source": [
    "import tensorflow as tf\n",
    "from tensorflow.keras import datasets, layers, models\n",
    "\n",
    "gpus = tf.config.experimental.list_physical_devices('GPU')\n",
    "if gpus:\n",
    "    try:\n",
    "        # Currently, memory growth needs to be the same across GPUs\n",
    "        for gpu in gpus:\n",
    "            tf.config.experimental.set_memory_growth(gpu, True)\n",
    "    except RuntimeError as e:\n",
    "         print(e)"
   ]
  },
  {
   "cell_type": "code",
   "execution_count": null,
   "id": "ce996065",
   "metadata": {},
   "outputs": [],
   "source": [
    "model.predict(img)\n",
    "# array([[[[40404.],\n",
    "#          [40404.]],\n",
    "\n",
    "#         [[40404.],\n",
    "#          [40404.]]]], dtype=float32)"
   ]
  },
  {
   "cell_type": "code",
   "execution_count": null,
   "id": "ab699f74",
   "metadata": {},
   "outputs": [],
   "source": [
    "model.summary()"
   ]
  },
  {
   "cell_type": "code",
   "execution_count": null,
   "id": "5ee71453",
   "metadata": {},
   "outputs": [],
   "source": [
    "a = np.array([[1, 2, 3],[6,7,8],[9,10,11]])\n",
    "b = np.array([[2, 3, 4],[11,12,13],[15,16,17]])\n",
    "np.stack((a, b),axis=-1)"
   ]
  },
  {
   "cell_type": "code",
   "execution_count": null,
   "id": "73af452b",
   "metadata": {},
   "outputs": [],
   "source": [
    "reshape_sst=reshape_ocean_cnn_sst_array.reshape(11,3,5)\n",
    "reshape_ssh=reshape_ocean_cnn_ssh_array.reshape(11,3,5)\n",
    "reshape_sub_10=reshape_ocean_cnn_sub_10_array.reshape(11,3,5)\n",
    "reshape_sub_250=reshape_ocean_cnn_sub_250_array.reshape(11,3,5)\n",
    "img_profile = np.stack([reshape_sst, reshape_ssh], axis=-1)\n",
    "#img_profile= np.expand_dims(img, axis=0)"
   ]
  },
  {
   "cell_type": "code",
   "execution_count": null,
   "id": "e21fdb92",
   "metadata": {},
   "outputs": [],
   "source": [
    "for depth in depth_list:\n",
    "    globals()['reshape_ocean_cnn_sub_'+str(depth)+'_array']=globals()['reshape_ocean_cnn_common_sub_'+str(depth)].to_numpy()\n",
    "    globals()['reshape_ocean_cnn_sub_'+str(10)+'_array'].shape\n",
    "    globals()['reshape_sub_'+str(depth)]=globals()['reshape_ocean_cnn_sub_'+str(depth)+'_array'].reshape(11,3,5)"
   ]
  },
  {
   "cell_type": "code",
   "execution_count": null,
   "id": "2efec396",
   "metadata": {},
   "outputs": [],
   "source": [
    "img_profile.shape\n",
    "img_profile"
   ]
  },
  {
   "cell_type": "code",
   "execution_count": null,
   "id": "24cb8b6a",
   "metadata": {},
   "outputs": [],
   "source": [
    "inputs = Input((3,5,2))\n",
    "conv = Conv2D(filters=1, \n",
    "              strides=1, \n",
    "              padding='same', \n",
    "              activation='relu',\n",
    "              kernel_size=2, \n",
    "              kernel_initializer='ones', \n",
    "              bias_initializer='zeros', )(inputs)\n",
    "model = Model(inputs,conv)\n",
    "model.compile (optimizer='adam',loss='mse')"
   ]
  },
  {
   "cell_type": "code",
   "execution_count": null,
   "id": "b12c44bb",
   "metadata": {},
   "outputs": [],
   "source": [
    "model.predict(img_profile)"
   ]
  },
  {
   "cell_type": "code",
   "execution_count": null,
   "id": "3c0306e2",
   "metadata": {},
   "outputs": [],
   "source": [
    "model.summary()"
   ]
  },
  {
   "cell_type": "code",
   "execution_count": null,
   "id": "d7459af9",
   "metadata": {},
   "outputs": [],
   "source": [
    "import tensorflow as tf\n",
    "tf.config.list_physical_devices(\n",
    "device_type=None)"
   ]
  },
  {
   "cell_type": "code",
   "execution_count": null,
   "id": "49c808aa",
   "metadata": {},
   "outputs": [],
   "source": [
    "import tensorflow as tf \n",
    "from tensorflow.python.client import device_lib\n",
    "device_lib.list_local_devices() "
   ]
  },
  {
   "cell_type": "code",
   "execution_count": null,
   "id": "45834fee",
   "metadata": {},
   "outputs": [],
   "source": [
    "import tensorflow as tf \n",
    "print(\"Num GPUs Available: \", len(tf.config.experimental.list_physical_devices('GPU')))"
   ]
  },
  {
   "cell_type": "code",
   "execution_count": null,
   "id": "c37bd583",
   "metadata": {},
   "outputs": [],
   "source": []
  },
  {
   "cell_type": "code",
   "execution_count": null,
   "id": "311df2a0",
   "metadata": {},
   "outputs": [],
   "source": [
    "import tensorflow as tf\n",
    "print(\"GPUs: \", len(tf.config.experimental.list_physical_devices('GPU')))\n",
    "model.fit(img_profile,reshape_sub_10,epochs=7000,verbose=1)"
   ]
  },
  {
   "cell_type": "code",
   "execution_count": null,
   "id": "a7e30560",
   "metadata": {},
   "outputs": [],
   "source": [
    "predicted_value=model.predict(img_profile)"
   ]
  },
  {
   "cell_type": "code",
   "execution_count": null,
   "id": "11c273f9",
   "metadata": {},
   "outputs": [],
   "source": [
    "reshape_sub_10.shape"
   ]
  },
  {
   "cell_type": "code",
   "execution_count": null,
   "id": "b876c7aa",
   "metadata": {},
   "outputs": [],
   "source": [
    "reshape_sub_10"
   ]
  },
  {
   "cell_type": "code",
   "execution_count": null,
   "id": "123c4c9a",
   "metadata": {},
   "outputs": [],
   "source": [
    "predicted_value.shape"
   ]
  },
  {
   "cell_type": "code",
   "execution_count": null,
   "id": "b6952e2e",
   "metadata": {},
   "outputs": [],
   "source": [
    "predicted_value"
   ]
  },
  {
   "cell_type": "code",
   "execution_count": null,
   "id": "04dc0cf3",
   "metadata": {},
   "outputs": [],
   "source": [
    "inputs = Input((3,5,2))\n",
    "conv = Conv2D(filters=1, \n",
    "              strides=1, \n",
    "              padding='same', \n",
    "              activation='relu',\n",
    "              kernel_size=2, \n",
    "              kernel_initializer='ones', \n",
    "              bias_initializer='zeros', )(inputs)\n",
    "model = Model(inputs,conv)\n",
    "model.compile (optimizer='adam',loss='mse')"
   ]
  },
  {
   "cell_type": "code",
   "execution_count": null,
   "id": "c1fd744f",
   "metadata": {},
   "outputs": [],
   "source": [
    "from tensorflow.python.client import device_lib\n",
    "device_lib.list_local_devices()"
   ]
  },
  {
   "cell_type": "code",
   "execution_count": null,
   "id": "c4556d51",
   "metadata": {},
   "outputs": [],
   "source": [
    "import tensorflow as tf\n",
    "print(\"GPUs: \", len(tf.config.experimental.list_physical_devices('GPU')))\n",
    "\n",
    "depth_list=['10','20','30','50','75','100','125','150','200','250','300']\n",
    "for depth in depth_list:\n",
    "    inputs = Input((3,5,2))\n",
    "    conv = Conv2D(filters=1, \n",
    "                  strides=1, \n",
    "                  padding='same', \n",
    "                  activation='relu',\n",
    "                  kernel_size=2, \n",
    "                  kernel_initializer='ones', \n",
    "                  bias_initializer='zeros', )(inputs)\n",
    "    model = Model(inputs,conv)\n",
    "    model.compile (optimizer='adam',loss='mse')\n",
    "    train_y=globals()['reshape_sub_'+str(depth)]\n",
    "    print(train_y)\n",
    "    model.fit(img_profile,train_y,epochs=7000,verbose=1)\n",
    "    globals()['predicted_value'+str(depth)]=model.predict(img_profile)\n"
   ]
  },
  {
   "cell_type": "code",
   "execution_count": null,
   "id": "34b157a8",
   "metadata": {},
   "outputs": [],
   "source": [
    "#predicted_value=model.predict(img_profile)"
   ]
  },
  {
   "cell_type": "code",
   "execution_count": null,
   "id": "15979fb0",
   "metadata": {},
   "outputs": [],
   "source": [
    "predicted_value300[[[0,0,0]]]"
   ]
  },
  {
   "cell_type": "code",
   "execution_count": null,
   "id": "5e0d2178",
   "metadata": {},
   "outputs": [],
   "source": [
    "import matplotlib.pyplot as plt\n",
    "\n",
    "# define data\n",
    "\n",
    "#temp = [ 0.1 , 0.5, 1, 10, 15, 20, 15, 10, 1, 0.5, 0.5]\n",
    "\n",
    "#thislist.extend(thistuple)\n",
    "\n",
    "height_list=[0,1,2,3,4]\n",
    "weight_list=[0,1,2]\n",
    "list=[0,1,2,3,4,5]\n",
    "for case in list:\n",
    "    for height in height_list:\n",
    "        for weight in weight_list:\n",
    "            temp_list=[]\n",
    "            for depth in depth_list:\n",
    "                temp=globals()['predicted_value'+str(depth)][case,0,0,:]\n",
    "                temp_list.append(temp)\n",
    "        \n",
    "    #print(temp_list)\n",
    "        print(case)\n",
    "        Depth  = [ 10,  20,  30,  50, 75, 100, 125, 150, 200, 250, 300 ]\n",
    "        fig = plt.figure()\n",
    "        ax = fig.add_subplot(111)\n",
    "        ax.plot(temp_list, Depth, 'go--')\n",
    "        ax.xaxis.tick_top()\n",
    "        ax.set_ylabel('depth')\n",
    "        ax.set_ylim(500, 0)\n",
    "        ax.set_xlim(0, 25)\n",
    "        ax.set_xlabel('Sea Temp level [ppm]')\n",
    "        plt.show()"
   ]
  },
  {
   "cell_type": "code",
   "execution_count": null,
   "id": "95cf0562",
   "metadata": {},
   "outputs": [],
   "source": [
    "predicted_value300.shape"
   ]
  },
  {
   "cell_type": "code",
   "execution_count": null,
   "id": "73c739be",
   "metadata": {},
   "outputs": [],
   "source": []
  },
  {
   "cell_type": "code",
   "execution_count": null,
   "id": "dc7ebdc1",
   "metadata": {},
   "outputs": [],
   "source": []
  }
 ],
 "metadata": {
  "kernelspec": {
   "display_name": "Python 3",
   "language": "python",
   "name": "python3"
  },
  "language_info": {
   "codemirror_mode": {
    "name": "ipython",
    "version": 3
   },
   "file_extension": ".py",
   "mimetype": "text/x-python",
   "name": "python",
   "nbconvert_exporter": "python",
   "pygments_lexer": "ipython3",
   "version": "3.8.8"
  }
 },
 "nbformat": 4,
 "nbformat_minor": 5
}
